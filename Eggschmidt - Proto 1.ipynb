{
 "cells": [
  {
   "cell_type": "markdown",
   "id": "c14a7049",
   "metadata": {},
   "source": [
    "### Preamble"
   ]
  },
  {
   "cell_type": "code",
   "execution_count": 3,
   "id": "fec9acaf",
   "metadata": {},
   "outputs": [],
   "source": [
    "# Location of the MSIEVE executable\n",
    "\n",
    "MSIEVE_LOCATION = \"msieve153.exe\""
   ]
  },
  {
   "cell_type": "markdown",
   "id": "25841847",
   "metadata": {},
   "source": [
    "### Generate a message\n",
    "Message is selected randomly from N"
   ]
  },
  {
   "cell_type": "code",
   "execution_count": 6,
   "id": "2e5f6380",
   "metadata": {},
   "outputs": [],
   "source": [
    "import random\n",
    "\n",
    "N = 2**128\n",
    "\n",
    "m_i = random.randint(1, N)\n",
    "\n",
    "#m_i = 2**128"
   ]
  },
  {
   "cell_type": "markdown",
   "id": "a90f6d98",
   "metadata": {},
   "source": [
    "### Factor using MSIEVE"
   ]
  },
  {
   "cell_type": "code",
   "execution_count": 7,
   "id": "092dcfb6",
   "metadata": {},
   "outputs": [
    {
     "data": {
      "text/plain": [
       "b'\\r\\n277257988463235353807985973445179317120\\r\\np1: 2\\r\\np1: 2\\r\\np1: 2\\r\\np1: 2\\r\\np1: 2\\r\\np1: 2\\r\\np1: 2\\r\\np1: 3\\r\\np1: 3\\r\\np1: 3\\r\\np1: 3\\r\\np1: 3\\r\\np1: 5\\r\\np2: 11\\r\\np5: 30757\\r\\np28: 5269399946242443683583374303\\r\\n\\r\\n'"
      ]
     },
     "execution_count": 7,
     "metadata": {},
     "output_type": "execute_result"
    }
   ],
   "source": [
    "import subprocess\n",
    "\n",
    "# MSIEVE_LOCATION refers to the identified location of the GNFS implementation on disk\n",
    "# -q provides MSIEVE instruction to use a distilled output for the factors identified\n",
    "# m_i is the previously generated submessage\n",
    "msieve_factor_output_text = subprocess.run(f\"{MSIEVE_LOCATION} -q {m_i}\", capture_output=True).stdout\n",
    "\n",
    "msieve_factor_output_text"
   ]
  },
  {
   "cell_type": "markdown",
   "id": "fe024199",
   "metadata": {},
   "source": [
    "### Interpret the output of MSIEVE into native python objects"
   ]
  },
  {
   "cell_type": "code",
   "execution_count": 8,
   "id": "5e1ab68c",
   "metadata": {},
   "outputs": [
    {
     "data": {
      "text/plain": [
       "[2,\n",
       " 2,\n",
       " 2,\n",
       " 2,\n",
       " 2,\n",
       " 2,\n",
       " 2,\n",
       " 3,\n",
       " 3,\n",
       " 3,\n",
       " 3,\n",
       " 3,\n",
       " 5,\n",
       " 11,\n",
       " 30757,\n",
       " 5269399946242443683583374303]"
      ]
     },
     "execution_count": 8,
     "metadata": {},
     "output_type": "execute_result"
    }
   ],
   "source": [
    "import string\n",
    "import re\n",
    "\n",
    "factors = [int(x.split(b\":\")[1]) for x in filter(lambda x: re.match(b\"^p.*\",x), re.split(b\"\\r\\n\",msieve_factor_output_text))]\n",
    "\n",
    "factors"
   ]
  },
  {
   "cell_type": "markdown",
   "id": "f3df1fe5",
   "metadata": {},
   "source": [
    "### Construct a dictionary of prime factors, indices, count"
   ]
  },
  {
   "cell_type": "code",
   "execution_count": 9,
   "id": "86590c57",
   "metadata": {},
   "outputs": [],
   "source": [
    "class DistillationDict(dict):\n",
    "    def __missing__(self, key):\n",
    "        return None\n",
    "    \n",
    "from collections import Counter\n",
    "def get_dist_dict(f):\n",
    "    return DistillationDict(Counter(fac for fac in f))\n",
    "\n",
    "distillation = get_dist_dict(factors)"
   ]
  },
  {
   "cell_type": "code",
   "execution_count": 10,
   "id": "28638bae",
   "metadata": {},
   "outputs": [
    {
     "data": {
      "text/plain": [
       "{2: 7, 3: 5, 5: 1, 11: 1, 30757: 1, 5269399946242443683583374303: 1}"
      ]
     },
     "execution_count": 10,
     "metadata": {},
     "output_type": "execute_result"
    }
   ],
   "source": [
    "distillation"
   ]
  },
  {
   "cell_type": "code",
   "execution_count": 11,
   "id": "7e2a4d1b",
   "metadata": {},
   "outputs": [],
   "source": [
    "# Implicitly assumed we're never trying to find the length of \"zero\"\n",
    "def find_int_length(n):\n",
    "    discovered_length = 0\n",
    "    while n != 0:\n",
    "        n = n >> 1\n",
    "        discovered_length += 1\n",
    "    return discovered_length"
   ]
  },
  {
   "cell_type": "code",
   "execution_count": 12,
   "id": "850f38f8",
   "metadata": {},
   "outputs": [],
   "source": [
    "import math\n",
    "\n",
    "# TODO: Correct implementation, right now find an estimate\n",
    "def get_prime_index(n):\n",
    "    return (math.ceil(n/math.log(n)) >> 1)"
   ]
  },
  {
   "cell_type": "code",
   "execution_count": 13,
   "id": "de898daf",
   "metadata": {},
   "outputs": [
    {
     "data": {
      "text/plain": [
       "1"
      ]
     },
     "execution_count": 13,
     "metadata": {},
     "output_type": "execute_result"
    }
   ],
   "source": [
    "get_prime_index(2)"
   ]
  },
  {
   "cell_type": "code",
   "execution_count": 14,
   "id": "f185b02f",
   "metadata": {},
   "outputs": [],
   "source": [
    "def seek_missing_sequence(pre_distilled):\n",
    "    test_kern = 1\n",
    "    \n",
    "    while True:\n",
    "        # Check if the sequence is present in each position\n",
    "        dist_copy = pre_distilled\n",
    "        while find_int_length(test_kern) <= find_int_length(dist_copy):\n",
    "            # Compare the test kernel, and the relevant portion of the distilled_copy if they match, we start over\n",
    "            print(f\"Comparing: {bin(test_kern)} with {find_int_length(test_kern)} and {bin(dist_copy & 2**(find_int_length(test_kern)-1))}\")\n",
    "            if not (test_kern ^ (dist_copy & (2**find_int_length(test_kern)-1))):\n",
    "                print(\"found match, next kernel\")\n",
    "                break\n",
    "            \n",
    "            if(find_int_length(dist_copy) == find_int_length(test_kern)):\n",
    "                return test_kern\n",
    "            else:\n",
    "                # Check the next position\n",
    "                dist_copy = dist_copy >> 1\n",
    "                \n",
    "        test_kern += 1\n",
    "                \n",
    "        \n",
    "\n",
    "def construct_distilled_message(dist_dict):\n",
    "        distilled_message = find_int_length(m_i)\n",
    "        for k in dist_dict.keys():\n",
    "            estimated_prime_index = get_prime_index(k)\n",
    "            # Dump prime index\n",
    "            distilled_message = distilled_message << find_int_length(estimated_prime_index)\n",
    "            distilled_message = distilled_message | estimated_prime_index\n",
    "            \n",
    "            # Dump \n",
    "            distilled_message = distilled_message << find_int_length(dist_dict[k])\n",
    "            distilled_message = distilled_message | dist_dict[k]\n",
    "            \n",
    "        return distilled_message\n",
    "\n",
    "unescaped_message = construct_distilled_message(distillation)"
   ]
  },
  {
   "cell_type": "code",
   "execution_count": 15,
   "id": "ae933579",
   "metadata": {},
   "outputs": [
    {
     "data": {
      "text/plain": [
       "'0b1000000011111101101101101110100001100010001001000111100101000111110110010111111101110100000000000000000000000000000000001'"
      ]
     },
     "execution_count": 15,
     "metadata": {},
     "output_type": "execute_result"
    }
   ],
   "source": [
    "bin(unescaped_message)"
   ]
  },
  {
   "cell_type": "code",
   "execution_count": 71,
   "id": "3e5816c9",
   "metadata": {},
   "outputs": [],
   "source": [
    "import leb128\n",
    "\n",
    "def construct_leb128_message(dist_dict):\n",
    "    leb128_message = bytearray()\n",
    "    for k in dist_dict.keys():\n",
    "        leb128_message += leb128.u.encode(k)\n",
    "        leb128_message += b'\\x00'\n",
    "        leb128_message += leb128.u.encode(dist_dict[k])\n",
    "        leb128_message += b'\\x00'\n",
    "    return leb128_message[:-1]"
   ]
  },
  {
   "cell_type": "code",
   "execution_count": 72,
   "id": "55f4982a",
   "metadata": {},
   "outputs": [
    {
     "data": {
      "text/plain": [
       "bytearray(b'\\x02\\x00\\x01\\x00\\x05\\x00\\x01\\x00\\x89\\x01\\x00\\x01\\x00\\x85\\x1b\\x00\\x01\\x00\\xd5\\xd2\\x08\\x00\\x01\\x00\\xc3\\x8e\\x915\\x00\\x01\\x00\\x9b\\x85\\xb6\\xd6E\\x00\\x01\\x00\\xd7\\x8d\\x98\\xc6\\x9d\\xb6\\xf7\\xf1\\xad\\xd9\\x81\\x9d}\\x00\\x01')"
      ]
     },
     "execution_count": 72,
     "metadata": {},
     "output_type": "execute_result"
    }
   ],
   "source": [
    "z = construct_leb128_message(distillation)\n",
    "z"
   ]
  },
  {
   "cell_type": "code",
   "execution_count": 17,
   "id": "cd166ab4",
   "metadata": {},
   "outputs": [
    {
     "ename": "NameError",
     "evalue": "name 'z' is not defined",
     "output_type": "error",
     "traceback": [
      "\u001b[1;31m---------------------------------------------------------------------------\u001b[0m",
      "\u001b[1;31mNameError\u001b[0m                                 Traceback (most recent call last)",
      "Input \u001b[1;32mIn [17]\u001b[0m, in \u001b[0;36m<cell line: 4>\u001b[1;34m()\u001b[0m\n\u001b[0;32m      1\u001b[0m \u001b[38;5;28;01mimport\u001b[39;00m \u001b[38;5;21;01mconstriction\u001b[39;00m\n\u001b[0;32m      2\u001b[0m \u001b[38;5;28;01mimport\u001b[39;00m \u001b[38;5;21;01mnumpy\u001b[39;00m \u001b[38;5;28;01mas\u001b[39;00m \u001b[38;5;21;01mnp\u001b[39;00m\n\u001b[1;32m----> 4\u001b[0m message \u001b[38;5;241m=\u001b[39m np\u001b[38;5;241m.\u001b[39marray(\u001b[43mz\u001b[49m, dtype\u001b[38;5;241m=\u001b[39mnp\u001b[38;5;241m.\u001b[39mint8)\n\u001b[0;32m      6\u001b[0m \u001b[38;5;66;03m# Define an i.i.d. entropy model (see below for more complex models):\u001b[39;00m\n\u001b[0;32m      7\u001b[0m entropy_model \u001b[38;5;241m=\u001b[39m constriction\u001b[38;5;241m.\u001b[39mstream\u001b[38;5;241m.\u001b[39mmodel\u001b[38;5;241m.\u001b[39mQuantizedGaussian(\u001b[38;5;241m-\u001b[39m\u001b[38;5;241m50\u001b[39m, \u001b[38;5;241m50\u001b[39m, \u001b[38;5;241m3.2\u001b[39m, \u001b[38;5;241m9.6\u001b[39m)\n",
      "\u001b[1;31mNameError\u001b[0m: name 'z' is not defined"
     ]
    }
   ],
   "source": [
    "import constriction\n",
    "import numpy as np\n",
    "\n",
    "message = np.array(z, dtype=np.int8)\n",
    "\n",
    "# Define an i.i.d. entropy model (see below for more complex models):\n",
    "entropy_model = constriction.stream.model.QuantizedGaussian(-50, 50, 3.2, 9.6)\n",
    "\n",
    "# Let's use an ANS coder in this example. See below for a Range Coder example.\n",
    "encoder = constriction.stream.stack.AnsCoder()\n",
    "encoder.encode_reverse(message, entropy_model)\n",
    "\n",
    "compressed = encoder.get_compressed()\n",
    "print(f\"compressed representation: {compressed}\")\n",
    "print(f\"(in binary: {[bin(word) for word in compressed]})\")\n",
    "\n",
    "decoder = constriction.stream.stack.AnsCoder(compressed)\n",
    "decoded = decoder.decode(entropy_model, 9) # (decodes 9 symbols)\n",
    "assert np.all(decoded == message)"
   ]
  },
  {
   "cell_type": "code",
   "execution_count": 18,
   "id": "8ceb5d39",
   "metadata": {},
   "outputs": [
    {
     "name": "stdout",
     "output_type": "stream",
     "text": [
      "compression ratio: 0.9453125\n"
     ]
    }
   ],
   "source": [
    "print(f\"compression ratio: {find_int_length(unescaped_message)/find_int_length(m_i)}\")\n"
   ]
  },
  {
   "cell_type": "code",
   "execution_count": 20,
   "id": "f107043b",
   "metadata": {},
   "outputs": [],
   "source": [
    "import sys"
   ]
  },
  {
   "cell_type": "code",
   "execution_count": 23,
   "id": "e13e180e",
   "metadata": {},
   "outputs": [
    {
     "name": "stdout",
     "output_type": "stream",
     "text": [
      "compression ratio average: 1.1166232170138464 after 1184, [23, 2543]17, 37]71]1]]09], 3, 7]]"
     ]
    },
    {
     "ename": "KeyboardInterrupt",
     "evalue": "",
     "output_type": "error",
     "traceback": [
      "\u001b[1;31m---------------------------------------------------------------------------\u001b[0m",
      "\u001b[1;31mKeyboardInterrupt\u001b[0m                         Traceback (most recent call last)",
      "Input \u001b[1;32mIn [23]\u001b[0m, in \u001b[0;36m<cell line: 7>\u001b[1;34m()\u001b[0m\n\u001b[0;32m      9\u001b[0m N \u001b[38;5;241m=\u001b[39m \u001b[38;5;241m2\u001b[39m\u001b[38;5;241m*\u001b[39m\u001b[38;5;241m*\u001b[39m\u001b[38;5;241m16\u001b[39m\n\u001b[0;32m     10\u001b[0m m_i \u001b[38;5;241m=\u001b[39m random\u001b[38;5;241m.\u001b[39mrandint(\u001b[38;5;241m1\u001b[39m, N)\n\u001b[1;32m---> 11\u001b[0m msieve_factor_output_text \u001b[38;5;241m=\u001b[39m \u001b[43msubprocess\u001b[49m\u001b[38;5;241;43m.\u001b[39;49m\u001b[43mrun\u001b[49m\u001b[43m(\u001b[49m\u001b[38;5;124;43mf\u001b[39;49m\u001b[38;5;124;43m\"\u001b[39;49m\u001b[38;5;132;43;01m{\u001b[39;49;00m\u001b[43mMSIEVE_LOCATION\u001b[49m\u001b[38;5;132;43;01m}\u001b[39;49;00m\u001b[38;5;124;43m -q \u001b[39;49m\u001b[38;5;132;43;01m{\u001b[39;49;00m\u001b[43mm_i\u001b[49m\u001b[38;5;132;43;01m}\u001b[39;49;00m\u001b[38;5;124;43m\"\u001b[39;49m\u001b[43m,\u001b[49m\u001b[43m \u001b[49m\u001b[43mcapture_output\u001b[49m\u001b[38;5;241;43m=\u001b[39;49m\u001b[38;5;28;43;01mTrue\u001b[39;49;00m\u001b[43m)\u001b[49m\u001b[38;5;241m.\u001b[39mstdout\n\u001b[0;32m     12\u001b[0m factors \u001b[38;5;241m=\u001b[39m [\u001b[38;5;28mint\u001b[39m(x\u001b[38;5;241m.\u001b[39msplit(\u001b[38;5;124mb\u001b[39m\u001b[38;5;124m\"\u001b[39m\u001b[38;5;124m:\u001b[39m\u001b[38;5;124m\"\u001b[39m)[\u001b[38;5;241m1\u001b[39m]) \u001b[38;5;28;01mfor\u001b[39;00m x \u001b[38;5;129;01min\u001b[39;00m \u001b[38;5;28mfilter\u001b[39m(\u001b[38;5;28;01mlambda\u001b[39;00m x: re\u001b[38;5;241m.\u001b[39mmatch(\u001b[38;5;124mb\u001b[39m\u001b[38;5;124m\"\u001b[39m\u001b[38;5;124m^p.*\u001b[39m\u001b[38;5;124m\"\u001b[39m,x), re\u001b[38;5;241m.\u001b[39msplit(\u001b[38;5;124mb\u001b[39m\u001b[38;5;124m\"\u001b[39m\u001b[38;5;130;01m\\r\u001b[39;00m\u001b[38;5;130;01m\\n\u001b[39;00m\u001b[38;5;124m\"\u001b[39m,msieve_factor_output_text))]\n\u001b[0;32m     13\u001b[0m distillation \u001b[38;5;241m=\u001b[39m get_dist_dict(factors)\n",
      "File \u001b[1;32m~\\AppData\\Local\\Programs\\Python\\Python310\\lib\\subprocess.py:503\u001b[0m, in \u001b[0;36mrun\u001b[1;34m(input, capture_output, timeout, check, *popenargs, **kwargs)\u001b[0m\n\u001b[0;32m    501\u001b[0m \u001b[38;5;28;01mwith\u001b[39;00m Popen(\u001b[38;5;241m*\u001b[39mpopenargs, \u001b[38;5;241m*\u001b[39m\u001b[38;5;241m*\u001b[39mkwargs) \u001b[38;5;28;01mas\u001b[39;00m process:\n\u001b[0;32m    502\u001b[0m     \u001b[38;5;28;01mtry\u001b[39;00m:\n\u001b[1;32m--> 503\u001b[0m         stdout, stderr \u001b[38;5;241m=\u001b[39m \u001b[43mprocess\u001b[49m\u001b[38;5;241;43m.\u001b[39;49m\u001b[43mcommunicate\u001b[49m\u001b[43m(\u001b[49m\u001b[38;5;28;43minput\u001b[39;49m\u001b[43m,\u001b[49m\u001b[43m \u001b[49m\u001b[43mtimeout\u001b[49m\u001b[38;5;241;43m=\u001b[39;49m\u001b[43mtimeout\u001b[49m\u001b[43m)\u001b[49m\n\u001b[0;32m    504\u001b[0m     \u001b[38;5;28;01mexcept\u001b[39;00m TimeoutExpired \u001b[38;5;28;01mas\u001b[39;00m exc:\n\u001b[0;32m    505\u001b[0m         process\u001b[38;5;241m.\u001b[39mkill()\n",
      "File \u001b[1;32m~\\AppData\\Local\\Programs\\Python\\Python310\\lib\\subprocess.py:1149\u001b[0m, in \u001b[0;36mPopen.communicate\u001b[1;34m(self, input, timeout)\u001b[0m\n\u001b[0;32m   1146\u001b[0m     endtime \u001b[38;5;241m=\u001b[39m \u001b[38;5;28;01mNone\u001b[39;00m\n\u001b[0;32m   1148\u001b[0m \u001b[38;5;28;01mtry\u001b[39;00m:\n\u001b[1;32m-> 1149\u001b[0m     stdout, stderr \u001b[38;5;241m=\u001b[39m \u001b[38;5;28;43mself\u001b[39;49m\u001b[38;5;241;43m.\u001b[39;49m\u001b[43m_communicate\u001b[49m\u001b[43m(\u001b[49m\u001b[38;5;28;43minput\u001b[39;49m\u001b[43m,\u001b[49m\u001b[43m \u001b[49m\u001b[43mendtime\u001b[49m\u001b[43m,\u001b[49m\u001b[43m \u001b[49m\u001b[43mtimeout\u001b[49m\u001b[43m)\u001b[49m\n\u001b[0;32m   1150\u001b[0m \u001b[38;5;28;01mexcept\u001b[39;00m \u001b[38;5;167;01mKeyboardInterrupt\u001b[39;00m:\n\u001b[0;32m   1151\u001b[0m     \u001b[38;5;66;03m# https://bugs.python.org/issue25942\u001b[39;00m\n\u001b[0;32m   1152\u001b[0m     \u001b[38;5;66;03m# See the detailed comment in .wait().\u001b[39;00m\n\u001b[0;32m   1153\u001b[0m     \u001b[38;5;28;01mif\u001b[39;00m timeout \u001b[38;5;129;01mis\u001b[39;00m \u001b[38;5;129;01mnot\u001b[39;00m \u001b[38;5;28;01mNone\u001b[39;00m:\n",
      "File \u001b[1;32m~\\AppData\\Local\\Programs\\Python\\Python310\\lib\\subprocess.py:1523\u001b[0m, in \u001b[0;36mPopen._communicate\u001b[1;34m(self, input, endtime, orig_timeout)\u001b[0m\n\u001b[0;32m   1519\u001b[0m \u001b[38;5;66;03m# Wait for the reader threads, or time out.  If we time out, the\u001b[39;00m\n\u001b[0;32m   1520\u001b[0m \u001b[38;5;66;03m# threads remain reading and the fds left open in case the user\u001b[39;00m\n\u001b[0;32m   1521\u001b[0m \u001b[38;5;66;03m# calls communicate again.\u001b[39;00m\n\u001b[0;32m   1522\u001b[0m \u001b[38;5;28;01mif\u001b[39;00m \u001b[38;5;28mself\u001b[39m\u001b[38;5;241m.\u001b[39mstdout \u001b[38;5;129;01mis\u001b[39;00m \u001b[38;5;129;01mnot\u001b[39;00m \u001b[38;5;28;01mNone\u001b[39;00m:\n\u001b[1;32m-> 1523\u001b[0m     \u001b[38;5;28;43mself\u001b[39;49m\u001b[38;5;241;43m.\u001b[39;49m\u001b[43mstdout_thread\u001b[49m\u001b[38;5;241;43m.\u001b[39;49m\u001b[43mjoin\u001b[49m\u001b[43m(\u001b[49m\u001b[38;5;28;43mself\u001b[39;49m\u001b[38;5;241;43m.\u001b[39;49m\u001b[43m_remaining_time\u001b[49m\u001b[43m(\u001b[49m\u001b[43mendtime\u001b[49m\u001b[43m)\u001b[49m\u001b[43m)\u001b[49m\n\u001b[0;32m   1524\u001b[0m     \u001b[38;5;28;01mif\u001b[39;00m \u001b[38;5;28mself\u001b[39m\u001b[38;5;241m.\u001b[39mstdout_thread\u001b[38;5;241m.\u001b[39mis_alive():\n\u001b[0;32m   1525\u001b[0m         \u001b[38;5;28;01mraise\u001b[39;00m TimeoutExpired(\u001b[38;5;28mself\u001b[39m\u001b[38;5;241m.\u001b[39margs, orig_timeout)\n",
      "File \u001b[1;32m~\\AppData\\Local\\Programs\\Python\\Python310\\lib\\threading.py:1089\u001b[0m, in \u001b[0;36mThread.join\u001b[1;34m(self, timeout)\u001b[0m\n\u001b[0;32m   1086\u001b[0m     \u001b[38;5;28;01mraise\u001b[39;00m \u001b[38;5;167;01mRuntimeError\u001b[39;00m(\u001b[38;5;124m\"\u001b[39m\u001b[38;5;124mcannot join current thread\u001b[39m\u001b[38;5;124m\"\u001b[39m)\n\u001b[0;32m   1088\u001b[0m \u001b[38;5;28;01mif\u001b[39;00m timeout \u001b[38;5;129;01mis\u001b[39;00m \u001b[38;5;28;01mNone\u001b[39;00m:\n\u001b[1;32m-> 1089\u001b[0m     \u001b[38;5;28;43mself\u001b[39;49m\u001b[38;5;241;43m.\u001b[39;49m\u001b[43m_wait_for_tstate_lock\u001b[49m\u001b[43m(\u001b[49m\u001b[43m)\u001b[49m\n\u001b[0;32m   1090\u001b[0m \u001b[38;5;28;01melse\u001b[39;00m:\n\u001b[0;32m   1091\u001b[0m     \u001b[38;5;66;03m# the behavior of a negative timeout isn't documented, but\u001b[39;00m\n\u001b[0;32m   1092\u001b[0m     \u001b[38;5;66;03m# historically .join(timeout=x) for x<0 has acted as if timeout=0\u001b[39;00m\n\u001b[0;32m   1093\u001b[0m     \u001b[38;5;28mself\u001b[39m\u001b[38;5;241m.\u001b[39m_wait_for_tstate_lock(timeout\u001b[38;5;241m=\u001b[39m\u001b[38;5;28mmax\u001b[39m(timeout, \u001b[38;5;241m0\u001b[39m))\n",
      "File \u001b[1;32m~\\AppData\\Local\\Programs\\Python\\Python310\\lib\\threading.py:1109\u001b[0m, in \u001b[0;36mThread._wait_for_tstate_lock\u001b[1;34m(self, block, timeout)\u001b[0m\n\u001b[0;32m   1106\u001b[0m     \u001b[38;5;28;01mreturn\u001b[39;00m\n\u001b[0;32m   1108\u001b[0m \u001b[38;5;28;01mtry\u001b[39;00m:\n\u001b[1;32m-> 1109\u001b[0m     \u001b[38;5;28;01mif\u001b[39;00m \u001b[43mlock\u001b[49m\u001b[38;5;241;43m.\u001b[39;49m\u001b[43macquire\u001b[49m\u001b[43m(\u001b[49m\u001b[43mblock\u001b[49m\u001b[43m,\u001b[49m\u001b[43m \u001b[49m\u001b[43mtimeout\u001b[49m\u001b[43m)\u001b[49m:\n\u001b[0;32m   1110\u001b[0m         lock\u001b[38;5;241m.\u001b[39mrelease()\n\u001b[0;32m   1111\u001b[0m         \u001b[38;5;28mself\u001b[39m\u001b[38;5;241m.\u001b[39m_stop()\n",
      "\u001b[1;31mKeyboardInterrupt\u001b[0m: "
     ]
    }
   ],
   "source": [
    "ratios = []\n",
    "\n",
    "num_rounds = 0\n",
    "\n",
    "file_size = 4\n",
    "\n",
    "while True:\n",
    "    num_rounds += 1\n",
    "    N = 2**16\n",
    "    m_i = random.randint(1, N)\n",
    "    msieve_factor_output_text = subprocess.run(f\"{MSIEVE_LOCATION} -q {m_i}\", capture_output=True).stdout\n",
    "    factors = [int(x.split(b\":\")[1]) for x in filter(lambda x: re.match(b\"^p.*\",x), re.split(b\"\\r\\n\",msieve_factor_output_text))]\n",
    "    distillation = get_dist_dict(factors)\n",
    "    unescaped_message = construct_distilled_message(distillation)\n",
    "    \n",
    "    ratios += [find_int_length(unescaped_message)/find_int_length(m_i)]\n",
    "    sys.stdout.write(f\"\\rcompression ratio average: {sum(ratios)/len(ratios)} after {num_rounds}, {factors}\")\n",
    "    "
   ]
  },
  {
   "cell_type": "code",
   "execution_count": null,
   "id": "a66ac63f",
   "metadata": {},
   "outputs": [],
   "source": []
  }
 ],
 "metadata": {
  "kernelspec": {
   "display_name": "Python 3 (ipykernel)",
   "language": "python",
   "name": "python3"
  },
  "language_info": {
   "codemirror_mode": {
    "name": "ipython",
    "version": 3
   },
   "file_extension": ".py",
   "mimetype": "text/x-python",
   "name": "python",
   "nbconvert_exporter": "python",
   "pygments_lexer": "ipython3",
   "version": "3.10.4"
  }
 },
 "nbformat": 4,
 "nbformat_minor": 5
}
